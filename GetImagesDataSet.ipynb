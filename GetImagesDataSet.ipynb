{
 "cells": [
  {
   "cell_type": "code",
   "execution_count": null,
   "id": "a1c7c307",
   "metadata": {},
   "outputs": [],
   "source": [
    "from commonfunctions import *\n",
    "from skimage import io\n",
    "from skimage.color import rgba2rgb, rgb2gray\n",
    "from skimage import filters\n",
    "from skimage.feature import hog\n",
    "import numpy as np\n",
    "import cv2\n",
    "import sys\n",
    "import os\n",
    "from PHOG_V2 import *\n",
    "from Faces import *\n",
    "from sklearn.metrics import accuracy_score\n",
    "from sklearn.model_selection import train_test_split\n",
    "from sklearn.svm import SVC\n",
    "from sklearn.preprocessing import StandardScaler\n",
    "from sklearn.pipeline import Pipeline\n",
    "from sklearn.decomposition import PCA\n",
    "from sklearn import svm\n",
    "import pickle"
   ]
  },
  {
   "cell_type": "code",
   "execution_count": null,
   "id": "72139373",
   "metadata": {},
   "outputs": [],
   "source": [
    "from sklearn.datasets import fetch_olivetti_faces"
   ]
  },
  {
   "cell_type": "code",
   "execution_count": null,
   "id": "3c091bbc",
   "metadata": {},
   "outputs": [],
   "source": [
    "olivetti_faces = fetch_olivetti_faces()"
   ]
  },
  {
   "cell_type": "code",
   "execution_count": null,
   "id": "5a6e5b65",
   "metadata": {},
   "outputs": [],
   "source": [
    "print(olivetti_faces.data)"
   ]
  },
  {
   "cell_type": "code",
   "execution_count": null,
   "id": "febd0dc4",
   "metadata": {},
   "outputs": [],
   "source": [
    "print(olivetti_faces.data.shape)"
   ]
  },
  {
   "cell_type": "code",
   "execution_count": null,
   "id": "b555ebe6",
   "metadata": {},
   "outputs": [],
   "source": [
    "print(olivetti_faces.target)"
   ]
  },
  {
   "cell_type": "code",
   "execution_count": null,
   "id": "7ef49e4f",
   "metadata": {},
   "outputs": [],
   "source": [
    "print(olivetti_faces.target.shape)"
   ]
  },
  {
   "cell_type": "code",
   "execution_count": null,
   "id": "5355a211",
   "metadata": {},
   "outputs": [],
   "source": [
    "bunch = fetch_olivetti_faces(data_home=None, shuffle = False, return_X_y = False)\n",
    "bunch.keys()"
   ]
  },
  {
   "cell_type": "code",
   "execution_count": null,
   "id": "863ef478",
   "metadata": {},
   "outputs": [],
   "source": [
    "print(bunch.images.shape)"
   ]
  },
  {
   "cell_type": "code",
   "execution_count": null,
   "id": "f8c3bf5b",
   "metadata": {},
   "outputs": [],
   "source": [
    "show_images(bunch.images[390:400])"
   ]
  },
  {
   "cell_type": "code",
   "execution_count": null,
   "id": "90e6145f",
   "metadata": {},
   "outputs": [],
   "source": []
  }
 ],
 "metadata": {
  "kernelspec": {
   "display_name": "Python 3 (ipykernel)",
   "language": "python",
   "name": "python3"
  },
  "language_info": {
   "codemirror_mode": {
    "name": "ipython",
    "version": 3
   },
   "file_extension": ".py",
   "mimetype": "text/x-python",
   "name": "python",
   "nbconvert_exporter": "python",
   "pygments_lexer": "ipython3",
   "version": "3.9.12"
  }
 },
 "nbformat": 4,
 "nbformat_minor": 5
}
