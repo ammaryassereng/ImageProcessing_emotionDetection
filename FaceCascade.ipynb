{
 "cells": [
  {
   "cell_type": "code",
   "execution_count": null,
   "metadata": {},
   "outputs": [],
   "source": [
    "from commonfunctions import *\n",
    "from skimage import io\n",
    "from skimage.color import rgba2rgb, rgb2gray\n",
    "from skimage import filters\n",
    "from skimage.feature import hog\n",
    "import numpy as np\n",
    "import cv2\n",
    "import sys\n",
    "import os\n",
    "from PHOG_V2 import *\n",
    "from Faces import *\n",
    "from sklearn.metrics import accuracy_score\n",
    "from sklearn.model_selection import train_test_split\n",
    "from sklearn.svm import SVC\n",
    "from sklearn.preprocessing import StandardScaler\n",
    "from sklearn.pipeline import Pipeline\n",
    "from sklearn.decomposition import PCA\n",
    "from sklearn import svm\n",
    "import pickle\n",
    "\n",
    "from sklearn.datasets import fetch_olivetti_faces"
   ]
  },
  {
   "cell_type": "code",
   "execution_count": null,
   "metadata": {},
   "outputs": [],
   "source": [
    "def getFeatureArray(size = 24):\n",
    "    feature_array = []\n",
    "    loop_on_array = np.zeros((size,size))\n",
    "    feature_names = [\"Edge_Horizontal\",\"Edge_Vertical\",\"Line_Horizontal\",\"Line_Verticle\",\"Rectangle\"]\n",
    "    for name in feature_names:\n",
    "                \n",
    "        if name == \"Edge_Horizontal\":\n",
    "            width = 1\n",
    "            height = 0\n",
    "            while not(width >= size and height >= size):\n",
    "                for i in range(size - width):\n",
    "                    for j in range(size - height):\n",
    "#                         print((i,j),(i + width,j + height))\n",
    "                        feature_array.append([(i,j),(i + width,j + height),name])\n",
    "#                 print(len(feature_array), width, height)\n",
    "#                 input()\n",
    "                if width < size:\n",
    "                    width += 2\n",
    "                elif height != size:\n",
    "                    width = 1\n",
    "                    height += 1\n",
    "\n",
    "        elif name == \"Edge_Vertical\":\n",
    "            width = 0\n",
    "            height = 1\n",
    "            while not(width >= size and height >= size):\n",
    "                for i in range(size - width):\n",
    "                    for j in range(size - height):\n",
    "#                         print((i,j),(i + width,j + height))\n",
    "                        feature_array.append([(i,j),(i + width,j + height),name])\n",
    "                if height < size:\n",
    "                    height += 2\n",
    "                elif width != size:\n",
    "                    height = 1\n",
    "                    width += 1\n",
    "\n",
    "        elif name == \"Line_Horizontal\":\n",
    "            width = 2\n",
    "            height = 0\n",
    "            while not(width >= size and height >= size):\n",
    "                for i in range(size - width):\n",
    "                    for j in range(size - height):\n",
    "#                         print((i,j),(i + width,j + height))\n",
    "                        feature_array.append([(i,j),(i + width,j + height),name])\n",
    "                if width < size:\n",
    "                    width += 3\n",
    "                elif height != size:\n",
    "                    width = 2\n",
    "                    height += 1     \n",
    "                    \n",
    "        elif name == \"Line_Verticle\":\n",
    "            width = 0\n",
    "            height = 2\n",
    "            while not(width >= size and height >= size):\n",
    "                for i in range(size - width):\n",
    "                    for j in range(size - height):\n",
    "#                         print((i,j),(i + width,j + height))\n",
    "                        feature_array.append([(i,j),(i + width,j + height),name])\n",
    "                if height < size:\n",
    "                    height += 3\n",
    "                elif width != size:\n",
    "                    height = 2\n",
    "                    width += 1  \n",
    "\n",
    "        elif name == \"Rectangle\":\n",
    "            width = 1\n",
    "            height = 1\n",
    "            while not(width >= size and height >= size):\n",
    "                for i in range(size - width):\n",
    "                    for j in range(size - height):\n",
    "                        feature_array.append([(i,j),(i + width,j + height),name])\n",
    "                if width < size:\n",
    "                    width += 2\n",
    "                elif height != size:\n",
    "                    width = 1\n",
    "                    height += 2\n",
    "\n",
    "    return feature_array\n",
    "\n",
    "feature_array = getFeatureArray(24)\n",
    "print(len(feature_array))"
   ]
  },
  {
   "cell_type": "code",
   "execution_count": null,
   "metadata": {},
   "outputs": [],
   "source": [
    "def preprocessImg(img):\n",
    "    img_copy = np.copy(img)\n",
    "    if len(img_copy.shape) != 2:\n",
    "        img_copy = rgb2gray(img_copy)\n",
    "    img_copy = cv2.resize(img_copy, dsize=(24, 24), interpolation=cv2.INTER_CUBIC) \n",
    "    return img_copy"
   ]
  },
  {
   "cell_type": "code",
   "execution_count": null,
   "metadata": {},
   "outputs": [],
   "source": [
    "def getIntegralImage(img):\n",
    "    new_img = np.zeros(img.shape)\n",
    "#     new_img[i,j] = img[0,0]\n",
    "    for i in range(img.shape[0]):\n",
    "        for j in range(img.shape[1]):\n",
    "            new_img[i,j] = np.sum(img[0:i+1,0:j+1])\n",
    "    return new_img"
   ]
  },
  {
   "cell_type": "code",
   "execution_count": null,
   "metadata": {},
   "outputs": [],
   "source": [
    "def calculateSumOfIntegralImage_V2(int_img,st_x,st_y,end_x,end_y):\n",
    "        if (st_x-1 < 0) or (st_y-1) < 0:\n",
    "            return int_img[end_x,end_y]\n",
    "        if (end_x == 24):\n",
    "            end_x -= 1\n",
    "        if (end_y == 24):\n",
    "            end_y -= 1\n",
    "        if (st_x - 1 == 24):\n",
    "            st_x -= 2\n",
    "        if (st_y - 1 == 24):\n",
    "            st_y -= 2\n",
    "        # print(int_img.shape,st_x,st_y,end_x,end_y)\n",
    "        return int_img[end_x,end_y] + int_img[st_x-1,st_y-1] - int_img[end_x,st_y-1] - int_img[st_x-1,end_y]"
   ]
  },
  {
   "cell_type": "code",
   "execution_count": null,
   "metadata": {},
   "outputs": [],
   "source": [
    "def harrEdgeHorizontal(int_img,feature_params, scale_factor):\n",
    "    # print(feature_params)\n",
    "    st_x, st_y = feature_params[0] \n",
    "    end_x, end_y = feature_params[1] \n",
    "    st_x = int(st_x * scale_factor)\n",
    "    st_y = int(st_y * scale_factor)\n",
    "    end_x = int(end_x * scale_factor)\n",
    "    end_y = int(end_y * scale_factor)\n",
    "    middle_x = (end_x + st_x)//2\n",
    "    middle_y = (end_y + st_y)//2\n",
    "    up_value = calculateSumOfIntegralImage_V2(int_img,st_x,st_y,middle_x,end_y)\n",
    "    down_value = calculateSumOfIntegralImage_V2(int_img,middle_x + 1,st_y,end_x,end_y)\n",
    "    return up_value - down_value"
   ]
  },
  {
   "cell_type": "code",
   "execution_count": null,
   "metadata": {},
   "outputs": [],
   "source": [
    "def harrEdgeVerticle(int_img,feature_params, scale_factor):\n",
    "    # print(feature_params)\n",
    "    st_x, st_y = feature_params[0] \n",
    "    end_x, end_y = feature_params[1] \n",
    "    st_x = int(st_x * scale_factor)\n",
    "    st_y = int(st_y * scale_factor)\n",
    "    end_x = int(end_x * scale_factor)\n",
    "    end_y = int(end_y * scale_factor)\n",
    "    middle_x = (end_x + st_x)//2\n",
    "    middle_y = (end_y + st_y)//2\n",
    "    left_value = calculateSumOfIntegralImage_V2(int_img,st_x,st_y,end_x,middle_y)\n",
    "    right_value = calculateSumOfIntegralImage_V2(int_img,st_x,middle_y + 1,end_x,end_y)\n",
    "    return left_value - right_value"
   ]
  },
  {
   "cell_type": "code",
   "execution_count": null,
   "metadata": {},
   "outputs": [],
   "source": [
    "def harrLineHorizontal(int_img,feature_params, scale_factor):\n",
    "    # print(feature_params)\n",
    "    st_x, st_y = feature_params[0]\n",
    "    end_x, end_y = feature_params[1] \n",
    "    st_x = int(st_x * scale_factor)\n",
    "    st_y = int(st_y * scale_factor)\n",
    "    end_x = int(end_x * scale_factor)\n",
    "    end_y = int(end_y * scale_factor)\n",
    "    third_x = (end_x + st_x + st_x)//3\n",
    "    third_2x = (end_x + end_x + st_x)//3\n",
    "    third_y = (end_y + st_y + st_y)//3\n",
    "    third_2y = (end_y + end_y + st_y)//3\n",
    "#     print(\"st_x,st_y,third_x,third_y,third_2x,third_2y,end_x,end_y\")\n",
    "#     print(st_x,st_y,third_x,third_y,third_2x,third_2y,end_x,end_y)\n",
    "    up_value = calculateSumOfIntegralImage_V2(int_img,st_x,st_y,third_x,end_y)\n",
    "    middle_value = calculateSumOfIntegralImage_V2(int_img,third_x + 1,st_y,third_2x,end_y)\n",
    "    down_value = calculateSumOfIntegralImage_V2(int_img,third_2x + 1,st_y,end_x,end_y)\n",
    "    return up_value + down_value - middle_value"
   ]
  },
  {
   "cell_type": "code",
   "execution_count": null,
   "metadata": {},
   "outputs": [],
   "source": [
    "def harrLineVerticle(int_img,feature_params, scale_factor):\n",
    "    # print(feature_params)\n",
    "    st_x, st_y = feature_params[0] \n",
    "    end_x, end_y = feature_params[1] \n",
    "    st_x = int(st_x * scale_factor)\n",
    "    st_y = int(st_y * scale_factor)\n",
    "    end_x = int(end_x * scale_factor)\n",
    "    end_y = int(end_y * scale_factor)\n",
    "    third_x = (end_x + st_x + st_x)//3\n",
    "    third_2x = (end_x + end_x + st_x)//3\n",
    "    third_y = (end_y + st_y + st_y)//3\n",
    "    third_2y = (end_y + end_y + st_y)//3\n",
    "    left_value = calculateSumOfIntegralImage_V2(int_img,st_x,st_y,end_x,third_y)\n",
    "    middle_value = calculateSumOfIntegralImage_V2(int_img,st_x,third_y + 1,end_x,third_2y)\n",
    "    right_value = calculateSumOfIntegralImage_V2(int_img,st_x,third_2y + 1,end_x,end_y)\n",
    "    return left_value + right_value - middle_value"
   ]
  },
  {
   "cell_type": "code",
   "execution_count": null,
   "metadata": {},
   "outputs": [],
   "source": [
    "def harrRectangle(int_img,feature_params,scale_factor):\n",
    "    # print(feature_params)\n",
    "    # try:\n",
    "        st_x, st_y = feature_params[0]\n",
    "        end_x, end_y = feature_params[1] \n",
    "        st_x = int(st_x * scale_factor)\n",
    "        st_y = int(st_y * scale_factor)\n",
    "        end_x = int(end_x * scale_factor)\n",
    "        end_y = int(end_y * scale_factor)\n",
    "        middle_x = (end_x + st_x)//2\n",
    "        middle_y = (end_y + st_y)//2\n",
    "        up_left_value = calculateSumOfIntegralImage_V2(int_img,st_x,st_y,middle_x,middle_y)\n",
    "        up_right_value = calculateSumOfIntegralImage_V2(int_img,st_x,middle_y + 1,middle_x,end_y)\n",
    "        down_left_value = calculateSumOfIntegralImage_V2(int_img,middle_x + 1,st_y,end_x,middle_y)\n",
    "        down_right_value = calculateSumOfIntegralImage_V2(int_img,middle_x + 1,middle_y + 1,end_x,end_y)\n",
    "#         print(up_left_value,up_right_value,down_left_value,down_right_value,up_left_value + down_right_value - up_right_value - down_left_value)\n",
    "        return up_left_value + down_right_value - up_right_value - down_left_value\n",
    "    # except:\n",
    "        # print(feature_params)"
   ]
  },
  {
   "cell_type": "code",
   "execution_count": null,
   "metadata": {},
   "outputs": [],
   "source": [
    "def calculateHaar(int_img,feature_params, scale_factor):\n",
    "    # try:\n",
    "        if feature_params[2] == \"Edge_Horizontal\":\n",
    "            return harrEdgeHorizontal(int_img,feature_params[0:2],scale_factor)\n",
    "        elif feature_params[2] == \"Edge_Vertical\":\n",
    "            return harrEdgeVerticle(int_img,feature_params[0:2],scale_factor)\n",
    "        elif feature_params[2] == \"Line_Horizontal\":\n",
    "            return harrLineHorizontal(int_img,feature_params[0:2],scale_factor)\n",
    "        elif feature_params[2] == \"Line_Verticle\":\n",
    "            return harrLineVerticle(int_img,feature_params[0:2],scale_factor)\n",
    "        elif feature_params[2] == \"Rectangle\":\n",
    "            return harrRectangle(int_img,feature_params[0:2],scale_factor)\n",
    "    # except:\n",
    "        # print(feature_params)\n",
    "        # print(feature_params[0] * scale_factor)"
   ]
  },
  {
   "cell_type": "code",
   "execution_count": null,
   "metadata": {},
   "outputs": [],
   "source": [
    "# stage # feature # values\n",
    "learned = np.zeros((100,10,4))\n",
    "count = 10\n",
    "for i in range(100):\n",
    "    with open('./Trained/filename'+ str(count) +'.txt') as f:\n",
    "        lines = f.readlines()\n",
    "        for j in range(10):\n",
    "            learned[i][j][0] = int(lines[j * 4])\n",
    "            learned[i][j][1] = float(lines[j * 4 + 1])\n",
    "            learned[i][j][2] = float(lines[j * 4 + 2])\n",
    "            learned[i][j][3] = int(lines[j * 4 + 3]) \n",
    "        count += 1"
   ]
  },
  {
   "cell_type": "code",
   "execution_count": null,
   "metadata": {},
   "outputs": [],
   "source": [
    "print(learned[0])\n",
    "print(feature_array[int(learned[0][0][0])])\n",
    "print(learned[1][0][3] == False)"
   ]
  },
  {
   "cell_type": "code",
   "execution_count": null,
   "metadata": {},
   "outputs": [],
   "source": [
    "def predictStamb(int_img,featue,thrs,more,feature_array,scale):\n",
    "    try:\n",
    "        res = calculateHaar(int_img,feature_array[int(featue)],scale)\n",
    "        if (res >= thrs and more == True) or (res < thrs and more == False):\n",
    "            return 1\n",
    "        else:\n",
    "            return 0\n",
    "    except:\n",
    "        print(int_img.shape)\n",
    "        print(feature_array[int(featue)])\n",
    "        print(scale)\n",
    "        print(calculateHaar(int_img,feature_array[int(featue)],scale))\n",
    "    #     print(int_img.shape)\n",
    "    #     print(feature_array[int(featue)])\n",
    "    #     print(scale)\n",
    "    #     print(calculateHaar(int_img,feature_array[int(featue)],scale))"
   ]
  },
  {
   "cell_type": "code",
   "execution_count": null,
   "metadata": {},
   "outputs": [],
   "source": []
  },
  {
   "cell_type": "code",
   "execution_count": null,
   "metadata": {},
   "outputs": [],
   "source": [
    "def predictAdaBoost(int_img,learned,index,feature_array,scale):\n",
    "    preds = []\n",
    "    for i in range(learned[index].shape[0]):\n",
    "        preds.append(learned[index][i][1] * predictStamb(int_img,learned[index][i][0],learned[index][i][2],learned[index][i][3],feature_array,scale))  \n",
    "    pred = np.sum(preds)\n",
    "    pred = np.sign(pred)\n",
    "    return pred  "
   ]
  },
  {
   "cell_type": "code",
   "execution_count": null,
   "metadata": {},
   "outputs": [],
   "source": [
    "# test_img = io.imread(\"./images/1.jpg\")\n",
    "# test_img = rgb2gray(test_img)\n",
    "# show_images([test_img])\n",
    "# print(test_img.shape)"
   ]
  },
  {
   "cell_type": "code",
   "execution_count": null,
   "metadata": {},
   "outputs": [],
   "source": [
    "def slideWindow(test_img, learned, feature_array):\n",
    "    winX = 24\n",
    "    winY = 24\n",
    "    scale = 1\n",
    "    results = []\n",
    "    score = -9999999999999\n",
    "    while (winX < test_img.shape[0]) and (winY < test_img.shape[1]): \n",
    "        # print(winX,winY)\n",
    "        for i in range(0,int(test_img.shape[0] - winX),1):\n",
    "            for j in range(0,int(test_img.shape[1] - winY),1):\n",
    "                # print(i , int(i+winX) ,j ,int(j + winY))\n",
    "                if(i + winX > test_img.shape[0] or j + winY > test_img.shape[1]):\n",
    "                    break\n",
    "                croppedImg = np.copy(test_img[i:int(i+winX),j:int(j+winY)])\n",
    "                int_img = getIntegralImage(croppedImg)\n",
    "                val = 0\n",
    "                for i in range(0,learned.shape[0]):\n",
    "                    val += predictAdaBoost(int_img,learned,i,feature_array,scale)\n",
    "                    # print(i,val)\n",
    "                # print(val)\n",
    "                if val >= score:\n",
    "                    if val != score:\n",
    "                        results = []\n",
    "                    score = val\n",
    "                    results.append(croppedImg)\n",
    "        scale = scale * 1.25\n",
    "        winX *= 1.25\n",
    "        winY *= 1.25\n",
    "        # print(\"I am here\")\n",
    "    return results"
   ]
  },
  {
   "cell_type": "code",
   "execution_count": null,
   "metadata": {},
   "outputs": [],
   "source": [
    "# ress = slideWindow(test_img,learned,feature_array)"
   ]
  },
  {
   "cell_type": "code",
   "execution_count": null,
   "metadata": {},
   "outputs": [],
   "source": [
    "# print(len(ress))\n",
    "# show_images(ress[23780:23791])"
   ]
  },
  {
   "cell_type": "code",
   "execution_count": null,
   "metadata": {},
   "outputs": [],
   "source": [
    "# test_img2 = cv2.resize(test_img, dsize=(24, 24), interpolation=cv2.INTER_CUBIC) \n",
    "\n",
    "# show_images([test_img2])\n",
    "\n",
    "# for i in range(learned.shape[0]):\n",
    "#     print(i,predictAdaBoost(getIntegralImage(test_img2),learned,i,feature_array,1))"
   ]
  },
  {
   "cell_type": "code",
   "execution_count": null,
   "metadata": {},
   "outputs": [],
   "source": [
    "bunch = fetch_olivetti_faces(data_home=None, shuffle = False, return_X_y = False)\n",
    "# show_images(bunch.images[0:10])\n",
    "\n",
    "def ReadFile(path,label,imgs,labels):\n",
    "    files = os.listdir(path)\n",
    "    num_images = len(files)\n",
    "    count = 0\n",
    "    for f in files:\n",
    "        count += 1\n",
    "        if count >= 300 and count < 400:\n",
    "            img = io.imread(os.path.join(path, f), as_gray=False)\n",
    "            img= preprocessImg(img)\n",
    "            imgs.append(img)\n",
    "            labels.append(label)\n",
    "            # return \n",
    "\n",
    "path = \"./FaceDetection/False/NotHuman\"\n",
    "imgs = []\n",
    "labels = []\n",
    "ReadFile(path,0,imgs,labels)\n",
    "print(len(imgs))\n",
    "print(len(labels))\n",
    "show_images(imgs[0:10])"
   ]
  },
  {
   "cell_type": "code",
   "execution_count": null,
   "metadata": {},
   "outputs": [],
   "source": [
    "data = np.copy(bunch.images)\n",
    "count = 0\n",
    "for i in range (data.shape[0]):\n",
    "    count += 1\n",
    "    if count >= 300 and count < 400:\n",
    "        imgs.append(preprocessImg(data[i]))\n",
    "        labels.append(1)\n",
    "\n",
    "print(len(imgs))\n",
    "print(len(labels))\n",
    "print(labels)"
   ]
  },
  {
   "cell_type": "code",
   "execution_count": null,
   "metadata": {},
   "outputs": [],
   "source": [
    "sum = 0\n",
    "for i in range(len(imgs)):\n",
    "    res = 1\n",
    "    # show_images([imgs[i]])\n",
    "    int_img = getIntegralImage(imgs[i])\n",
    "    for i in range(learned.shape[0]):\n",
    "        res = res * predictAdaBoost(int_img,learned,i,feature_array,1)\n",
    "    if (res == labels[i]):\n",
    "        sum = sum + 1\n",
    "print(sum)\n",
    "print(sum / len(labels))\n"
   ]
  },
  {
   "cell_type": "code",
   "execution_count": null,
   "metadata": {},
   "outputs": [],
   "source": [
    "# show_images([bunch.images[0]])\n",
    "\n",
    "# resBunch = slideWindow(bunch.images[0],learned,feature_array)"
   ]
  },
  {
   "cell_type": "code",
   "execution_count": null,
   "metadata": {},
   "outputs": [],
   "source": [
    "# print(len(resBunch))\n",
    "# show_images(resBunch)"
   ]
  },
  {
   "cell_type": "code",
   "execution_count": null,
   "metadata": {},
   "outputs": [],
   "source": [
    "test_img = io.imread(\"p1.png\")\n",
    "# test_img = rgb2gray(test_img)\n",
    "show_images([test_img])\n",
    "print(test_img.shape)"
   ]
  },
  {
   "cell_type": "code",
   "execution_count": null,
   "metadata": {},
   "outputs": [],
   "source": [
    "# result = slideWindow(test_img,learned,feature_array)"
   ]
  },
  {
   "cell_type": "code",
   "execution_count": null,
   "metadata": {},
   "outputs": [],
   "source": [
    "# print(len(result))\n",
    "# show_images(result)"
   ]
  },
  {
   "cell_type": "code",
   "execution_count": null,
   "metadata": {},
   "outputs": [],
   "source": [
    "test_img2 = cv2.resize(test_img, dsize=(int(test_img.shape[0] / 8), int(test_img.shape[1] / 8)), interpolation=cv2.INTER_CUBIC) \n",
    "show_images([test_img2])\n",
    "print(test_img2.shape)"
   ]
  },
  {
   "cell_type": "code",
   "execution_count": null,
   "metadata": {},
   "outputs": [],
   "source": [
    "result = slideWindow(test_img2,learned,feature_array)"
   ]
  },
  {
   "cell_type": "code",
   "execution_count": null,
   "metadata": {},
   "outputs": [],
   "source": [
    "print(len(result))\n",
    "show_images(result)"
   ]
  },
  {
   "cell_type": "code",
   "execution_count": null,
   "metadata": {},
   "outputs": [],
   "source": [
    "test_img3 = io.imread(\"p2.png\")\n",
    "# test_img = rgb2gray(test_img)\n",
    "show_images([test_img3])\n",
    "print(test_img3.shape)"
   ]
  },
  {
   "cell_type": "code",
   "execution_count": null,
   "metadata": {},
   "outputs": [],
   "source": [
    "test_img4 = cv2.resize(test_img3, dsize=(int(test_img3.shape[0] / 8), int(test_img3.shape[1] / 8)), interpolation=cv2.INTER_CUBIC) \n",
    "show_images([test_img4])\n",
    "print(test_img4.shape)"
   ]
  },
  {
   "cell_type": "code",
   "execution_count": null,
   "metadata": {},
   "outputs": [],
   "source": [
    "result = slideWindow(test_img4,learned,feature_array)"
   ]
  },
  {
   "cell_type": "code",
   "execution_count": null,
   "metadata": {},
   "outputs": [],
   "source": [
    "print(len(result))\n",
    "show_images(result)"
   ]
  },
  {
   "cell_type": "code",
   "execution_count": null,
   "metadata": {},
   "outputs": [],
   "source": [
    "# test_img3 = io.imread(\"3.jpg\")\n",
    "# test_img3 = rgb2gray(test_img3)\n",
    "# show_images([test_img3])\n",
    "# print(test_img3.shape)"
   ]
  },
  {
   "cell_type": "code",
   "execution_count": null,
   "metadata": {},
   "outputs": [],
   "source": [
    "# test_img4 = cv2.resize(test_img3, dsize=(int(test_img3.shape[0] / 2), int(test_img3.shape[1] / 2)), interpolation=cv2.INTER_CUBIC) \n",
    "# show_images([test_img4])\n",
    "# print(test_img4.shape)"
   ]
  },
  {
   "cell_type": "code",
   "execution_count": null,
   "metadata": {},
   "outputs": [],
   "source": [
    "# result = slideWindow(test_img4,learned,feature_array)"
   ]
  },
  {
   "cell_type": "code",
   "execution_count": null,
   "metadata": {},
   "outputs": [],
   "source": [
    "# print(len(result))\n",
    "# show_images(result[0:10])"
   ]
  },
  {
   "cell_type": "code",
   "execution_count": null,
   "metadata": {},
   "outputs": [],
   "source": [
    "test_img3 = io.imread(\"4.jpg\")\n",
    "test_img3 = rgb2gray(test_img3)\n",
    "show_images([test_img3])\n",
    "print(test_img3.shape)"
   ]
  },
  {
   "cell_type": "code",
   "execution_count": null,
   "metadata": {},
   "outputs": [],
   "source": [
    "test_img4 = cv2.resize(test_img3, dsize=(int(test_img3.shape[0] / 3), int(test_img3.shape[1] / 3)), interpolation=cv2.INTER_CUBIC) \n",
    "show_images([test_img4])\n",
    "print(test_img4.shape)"
   ]
  },
  {
   "cell_type": "code",
   "execution_count": null,
   "metadata": {},
   "outputs": [],
   "source": [
    "result = slideWindow(test_img4,learned,feature_array)"
   ]
  },
  {
   "cell_type": "code",
   "execution_count": null,
   "metadata": {},
   "outputs": [],
   "source": [
    "print(len(result))\n",
    "show_images(result)"
   ]
  }
 ],
 "metadata": {
  "kernelspec": {
   "display_name": "base",
   "language": "python",
   "name": "python3"
  },
  "language_info": {
   "codemirror_mode": {
    "name": "ipython",
    "version": 3
   },
   "file_extension": ".py",
   "mimetype": "text/x-python",
   "name": "python",
   "nbconvert_exporter": "python",
   "pygments_lexer": "ipython3",
   "version": "3.9.12"
  },
  "orig_nbformat": 4,
  "vscode": {
   "interpreter": {
    "hash": "cc4693f3c4b681bc815defa64dfcc5a7f5eb7e61ba747b158ed0891ed23725e5"
   }
  }
 },
 "nbformat": 4,
 "nbformat_minor": 2
}
