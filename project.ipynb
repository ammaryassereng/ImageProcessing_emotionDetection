{
 "cells": [
  {
   "cell_type": "code",
   "execution_count": null,
   "id": "7c6bac0b",
   "metadata": {},
   "outputs": [],
   "source": [
    "from commonfunctions import *\n",
    "from skimage import io\n",
    "from skimage.color import rgba2rgb, rgb2gray\n",
    "from skimage import filters\n",
    "import numpy as np\n",
    "import cv2"
   ]
  },
  {
   "cell_type": "code",
   "execution_count": null,
   "id": "7beb17f6",
   "metadata": {},
   "outputs": [],
   "source": [
    "faceCascade = cv2.CascadeClassifier(cv2.data.haarcascades + 'haarcascade_frontalface_default.xml')\n",
    "\n",
    "'''\n",
    "    'haarcascade_frontalface_default.xml': This 'XML' file contains a pre-trained model that was created through extensive training \n",
    "    \n",
    "    Cascade classifiers are trained using several positive (with faces or objects) images and arbitrary negative (without faces or objects) images. \n",
    "        OpenCV contains several pretrained cascading classifiers used in image processing to detect frontal views of faces and the upper body.\n",
    "    \n",
    "'''\n",
    "\n",
    "faceimg = cv2.imread(\"images/Real/real_00015.jpg\")\n",
    "\n",
    "colorB = np.copy(faceimg[:,:,0])\n",
    "colorR = np.copy(faceimg[:,:,2])\n",
    "faceimg[:,:,0] = colorR\n",
    "faceimg[:,:,2] = colorB\n",
    "show_images([faceimg])\n",
    "\n",
    "faces = faceCascade.detectMultiScale(faceimg,minNeighbors=int(0.003*faceimg.shape[0]))\n",
    "\n",
    "Cropped_faces = []\n",
    "for face in faces:\n",
    "    Cropped_faces.append(np.copy(faceimg[face[1]:face[1]+face[3],face[0]:face[0]+face[2],:]))\n",
    "\n",
    "show_images(Cropped_faces)\n",
    "\n"
   ]
  },
  {
   "cell_type": "code",
   "execution_count": null,
   "id": "7df60368",
   "metadata": {
    "scrolled": true
   },
   "outputs": [],
   "source": [
    "eyeImage = np.copy(Cropped_faces[0])\n",
    "eye_cascade = cv2.CascadeClassifier(cv2.data.haarcascades + 'haarcascade_eye.xml')\n",
    "left_eyes = eye_cascade.detectMultiScale(eyeImage[0:eyeImage.shape[0]//2,0:eyeImage.shape[1],:],minNeighbors=int(0.0145* eyeImage.shape[0]),minSize=(eyeImage.shape[0]//8, eyeImage.shape[0]//8))\n",
    "print(left_eyes)\n",
    "\n",
    "\n",
    "for (x, y, w, h) in left_eyes:\n",
    "    cv2.rectangle(eyeImage, (x, y), (x+w, y+h), (0, 255, 0), 2)\n",
    "show_images([eyeImage])\n",
    "\n"
   ]
  },
  {
   "cell_type": "code",
   "execution_count": null,
   "id": "9a71c6e9",
   "metadata": {},
   "outputs": [],
   "source": [
    "face = np.copy(Cropped_faces[0])\n",
    "# face1 = np.copy(Cropped_faces[1])\n",
    "# face2 = np.copy(Cropped_faces[2])\n",
    "# face3 = np.copy(Cropped_faces[3])\n",
    "# face4 = np.copy(Cropped_faces[4])\n",
    "# face5 = np.copy(Cropped_faces[5])\n",
    "\n",
    "\n",
    "def detectMouth(mouth_cascade, img=np.zeros((1,1))):\n",
    "    copyImg = np.copy(img)\n",
    "    flag = 1\n",
    "    start = 0\n",
    "#     end = 1\n",
    "    step = 0.1\n",
    "    while flag:\n",
    "        mouth = mouth_cascade.detectMultiScale(copyImg[copyImg.shape[0]//2:copyImg.shape[0],:,:], minSize=(25, 15),minNeighbors=int(start*face.shape[0]))\n",
    "        print(len(mouth), start, step)\n",
    "#         end += step\n",
    "        if len(mouth) == 1:\n",
    "            print(start,mouth)\n",
    "            show_images([copyImg,np.copy(copyImg[copyImg.shape[0]//2 + mouth[0][1]:copyImg.shape[0]//2 + mouth[0][1] + mouth[0][3],mouth[0][0]:mouth[0][0] + mouth[0][2],:])])\n",
    "            return np.copy(copyImg[copyImg.shape[0]//2 + mouth[0][1]:copyImg.shape[0]//2 + mouth[0][1] + mouth[0][3],mouth[0][0]:mouth[0][0] + mouth[0][2],:])\n",
    "        elif len(mouth) == 0:\n",
    "            if(start == 0):\n",
    "                print(\"I am here\")\n",
    "                return np.zeros((1,1))\n",
    "            start -= step\n",
    "            step = step /10\n",
    "            flag = 1\n",
    "            print(start)\n",
    "        else:\n",
    "            flag = 1\n",
    "        start += step\n",
    "#         for m in mouth:\n",
    "#             show_images([copyImg,np.copy(copyImg[m[1]:m[3],mouth[0][0]:mouth[0][2],:])])\n",
    "            \n",
    "show_images([detectMouth(cv2.CascadeClassifier(cv2.data.haarcascades + 'haarcascade_smile.xml'), face)])\n",
    "# detectMouth(cv2.CascadeClassifier(cv2.data.haarcascades + 'haarcascade_smile.xml'), face1)\n",
    "# detectMouth(cv2.CascadeClassifier(cv2.data.haarcascades + 'haarcascade_smile.xml'), face2)\n",
    "# detectMouth(cv2.CascadeClassifier(cv2.data.haarcascades + 'haarcascade_smile.xml'), face3)\n",
    "# detectMouth(cv2.CascadeClassifier(cv2.data.haarcascades + 'haarcascade_smile.xml'), face4)\n",
    "# detectMouth(cv2.CascadeClassifier(cv2.data.haarcascades + 'haarcascade_smile.xml'), face5)\n",
    "\n",
    "\n",
    "# mouth_cascade = cv2.CascadeClassifier(cv2.data.haarcascades + 'ourMouth.xml')\n",
    "\n",
    "# # mouth = mouth_cascade.detectMultiScale(face, scaleFactor=1.1, minNeighbors=int(0.4*face.shape[1]), minSize=(15, 15), flags=cv2.CASCADE_SCALE_IMAGE)\n",
    "# mouth = mouth_cascade.detectMultiScale(face[face.shape[0]//2:face.shape[0],:,:], minSize=(25, 15),minNeighbors=int(0.06*face.shape[0]))\n",
    "# print(len(mouth))\n",
    "\n",
    "# show_images([face[face.shape[0]//2:face.shape[0],:,:]])\n",
    "\n",
    "# for (x, y, w, h) in mouth:\n",
    "#     cv2.rectangle(face, (x, face.shape[0]//2 + y), (x+w, face.shape[0]//2 +y+h), (0, 255, 0), 2)\n",
    "# show_images([face, face[face.shape[0]//2 +y:face.shape[0]//2 +y+h,x:x+w,:]])"
   ]
  },
  {
   "cell_type": "code",
   "execution_count": null,
   "id": "fb56aa51",
   "metadata": {},
   "outputs": [],
   "source": []
  },
  {
   "cell_type": "code",
   "execution_count": null,
   "id": "c3296077",
   "metadata": {},
   "outputs": [],
   "source": []
  }
 ],
 "metadata": {
  "kernelspec": {
   "display_name": "Python 3 (ipykernel)",
   "language": "python",
   "name": "python3"
  },
  "language_info": {
   "codemirror_mode": {
    "name": "ipython",
    "version": 3
   },
   "file_extension": ".py",
   "mimetype": "text/x-python",
   "name": "python",
   "nbconvert_exporter": "python",
   "pygments_lexer": "ipython3",
   "version": "3.9.12"
  }
 },
 "nbformat": 4,
 "nbformat_minor": 5
}
